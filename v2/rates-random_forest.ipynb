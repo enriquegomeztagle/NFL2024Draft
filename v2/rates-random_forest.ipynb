{
 "cells": [
  {
   "cell_type": "code",
   "execution_count": 11,
   "metadata": {},
   "outputs": [],
   "source": [
    "import joblib\n",
    "import pandas as pd\n",
    "import numpy as np"
   ]
  },
  {
   "cell_type": "code",
   "execution_count": 12,
   "metadata": {},
   "outputs": [],
   "source": [
    "model = joblib.load('random_forest_model.pkl')\n",
    "new_data = pd.read_csv('new_data.csv')"
   ]
  },
  {
   "cell_type": "code",
   "execution_count": 13,
   "metadata": {},
   "outputs": [],
   "source": [
    "predictions = model.predict(new_data)\n",
    "new_data['Predicted RATE'] = predictions"
   ]
  },
  {
   "cell_type": "code",
   "execution_count": 14,
   "metadata": {},
   "outputs": [
    {
     "name": "stdout",
     "output_type": "stream",
     "text": [
      "           PYD         TD       CMP%       Y/A        RUSH  Predicted RATE\n",
      "0  1998.080573  11.536901  72.905768  8.059651  753.730337        4.412000\n",
      "1  2347.564604  18.148597  72.449280  5.331169  781.247363        4.393818\n",
      "2  1465.774542  17.656904  50.119805  7.811623  680.386582        4.443455\n",
      "3  1085.703731  17.717961  71.043409  9.898341   23.975059        4.307455\n",
      "4  3775.644059  35.994308  66.712466  5.953003  295.996668        1.544000\n"
     ]
    }
   ],
   "source": [
    "print(new_data.head())"
   ]
  },
  {
   "cell_type": "code",
   "execution_count": 15,
   "metadata": {},
   "outputs": [],
   "source": [
    "new_data.to_csv('full_predictions_for_players.csv', index=False)"
   ]
  },
  {
   "cell_type": "code",
   "execution_count": 16,
   "metadata": {},
   "outputs": [],
   "source": [
    "selected_players = new_data\n",
    "selected_players['Predicted RATE'] = np.floor(selected_players['Predicted RATE'])"
   ]
  },
  {
   "cell_type": "code",
   "execution_count": 17,
   "metadata": {},
   "outputs": [
    {
     "name": "stdout",
     "output_type": "stream",
     "text": [
      "           PYD         TD       CMP%       Y/A        RUSH  Predicted RATE\n",
      "0  1998.080573  11.536901  72.905768  8.059651  753.730337             4.0\n",
      "1  2347.564604  18.148597  72.449280  5.331169  781.247363             4.0\n",
      "2  1465.774542  17.656904  50.119805  7.811623  680.386582             4.0\n",
      "3  1085.703731  17.717961  71.043409  9.898341   23.975059             4.0\n",
      "4  3775.644059  35.994308  66.712466  5.953003  295.996668             1.0\n"
     ]
    }
   ],
   "source": [
    "print(new_data.head())"
   ]
  },
  {
   "cell_type": "code",
   "execution_count": 18,
   "metadata": {},
   "outputs": [
    {
     "name": "stdout",
     "output_type": "stream",
     "text": [
      "1000\n"
     ]
    }
   ],
   "source": [
    "selected_players = selected_players[selected_players['Predicted RATE'] <= 7]\n",
    "print(len(selected_players))"
   ]
  },
  {
   "cell_type": "code",
   "execution_count": 19,
   "metadata": {},
   "outputs": [
    {
     "name": "stdout",
     "output_type": "stream",
     "text": [
      "Predicted RATE\n",
      "1.0    351\n",
      "2.0    105\n",
      "3.0     54\n",
      "4.0    490\n",
      "Name: count, dtype: int64\n"
     ]
    }
   ],
   "source": [
    "count = selected_players['Predicted RATE'].value_counts().sort_index()\n",
    "print(count)"
   ]
  },
  {
   "cell_type": "code",
   "execution_count": 20,
   "metadata": {},
   "outputs": [
    {
     "name": "stdout",
     "output_type": "stream",
     "text": [
      "\n",
      "Rate: 4.0\n",
      "PYD: Mean = 2050.841034936469, Min = 1005.2091742763856, Max = 3111.6465123651124\n",
      "TD: Mean = 30.314082521720003, Min = 10.04400741933955, Max = 49.941814717326906\n",
      "CMP%: Mean = 65.08571813164427, Min = 50.11980543, Max = 79.73167512665506\n",
      "Y/A: Mean = 7.329593648608217, Min = 5.022046380368021, Max = 9.966342035260176\n",
      "RUSH: Mean = 491.2351783270658, Min = 1.3661937798987722, Max = 997.9959795760664\n",
      "\n",
      "Rate: 1.0\n",
      "PYD: Mean = 4296.845225216724, Min = 3482.1659676495087, Max = 4983.672534718019\n",
      "TD: Mean = 30.864933452982218, Min = 10.16068487802768, Max = 49.98237004\n",
      "CMP%: Mean = 64.60078248764178, Min = 50.00465357158322, Max = 79.84836357724937\n",
      "Y/A: Mean = 7.5941860349528545, Min = 5.008726655792971, Max = 9.9820066961933\n",
      "RUSH: Mean = 495.87383620097233, Min = 1.6128813230043004, Max = 999.8884412007806\n",
      "\n",
      "Rate: 2.0\n",
      "PYD: Mean = 3386.752552903536, Min = 3161.106473603442, Max = 3587.6746587699163\n",
      "TD: Mean = 29.63293132202655, Min = 10.297479309071589, Max = 49.573263266605245\n",
      "CMP%: Mean = 65.81887845242376, Min = 50.345315339113256, Max = 79.87925208383177\n",
      "Y/A: Mean = 7.438452681451021, Min = 5.036026709273928, Max = 9.974609258\n",
      "RUSH: Mean = 470.2749763133346, Min = 15.526055301123389, Max = 978.6817472806543\n",
      "\n",
      "Rate: 3.0\n",
      "PYD: Mean = 2601.2907567597053, Min = 1150.1325382244213, Max = 3264.9988778443103\n",
      "TD: Mean = 32.41120268033203, Min = 10.065423821424837, Max = 49.5782760444132\n",
      "CMP%: Mean = 64.48626475509025, Min = 50.51634975, Max = 79.67130195711853\n",
      "Y/A: Mean = 8.500520594683284, Min = 5.399911856, Max = 9.997536249008869\n",
      "RUSH: Mean = 450.19755909906775, Min = 1.1104410139795018, Max = 967.0187958884312\n"
     ]
    }
   ],
   "source": [
    "rates = selected_players['Predicted RATE'].unique()\n",
    "features = selected_players.columns.drop('Predicted RATE')\n",
    "\n",
    "for rate in rates:\n",
    "    rate_data = selected_players[selected_players['Predicted RATE'] == rate]\n",
    "    print(f\"\\nRate: {rate}\")\n",
    "    for feature in features:\n",
    "        mean_value = np.mean(rate_data[feature])\n",
    "        min_value = np.min(rate_data[feature])\n",
    "        max_value = np.max(rate_data[feature])\n",
    "        print(f\"{feature}: Mean = {mean_value}, Min = {min_value}, Max = {max_value}\")"
   ]
  }
 ],
 "metadata": {
  "kernelspec": {
   "display_name": "Python 3",
   "language": "python",
   "name": "python3"
  },
  "language_info": {
   "codemirror_mode": {
    "name": "ipython",
    "version": 3
   },
   "file_extension": ".py",
   "mimetype": "text/x-python",
   "name": "python",
   "nbconvert_exporter": "python",
   "pygments_lexer": "ipython3",
   "version": "3.12.4"
  }
 },
 "nbformat": 4,
 "nbformat_minor": 2
}
