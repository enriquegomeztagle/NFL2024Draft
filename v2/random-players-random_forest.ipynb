{
 "cells": [
  {
   "cell_type": "code",
   "execution_count": 1058,
   "metadata": {},
   "outputs": [],
   "source": [
    "import numpy as np\n",
    "import pandas as pd\n",
    "import joblib"
   ]
  },
  {
   "cell_type": "code",
   "execution_count": 1059,
   "metadata": {},
   "outputs": [],
   "source": [
    "model = joblib.load('random_forest_model.pkl')"
   ]
  },
  {
   "cell_type": "code",
   "execution_count": 1060,
   "metadata": {},
   "outputs": [],
   "source": [
    "def generate_random_player():\n",
    "    rate = np.random.choice([1, 2, 3, 4])\n",
    "\n",
    "    if rate == 1:\n",
    "        player = {\n",
    "            'PYD': np.random.uniform(3482.1659676495087, 4983.672534718019),\n",
    "            'TD': np.random.uniform(10.16068487802768, 49.98237004),\n",
    "            'CMP%': np.random.uniform(50.00465357158322, 79.84836357724937),\n",
    "            'Y/A': np.random.uniform(5.008726655792971, 9.9820066961933),\n",
    "            'RUSH': np.random.uniform(1.6128813230043004, 999.8884412007806),\n",
    "            'Real Rate': rate\n",
    "        }\n",
    "    elif rate == 2:\n",
    "        player = {\n",
    "            'PYD': np.random.uniform(3161.106473603442, 3587.6746587699163),\n",
    "            'TD': np.random.uniform(10.297479309071589, 49.573263266605245),\n",
    "            'CMP%': np.random.uniform(50.345315339113256, 79.87925208383177),\n",
    "            'Y/A': np.random.uniform(5.036026709273928, 9.974609258),\n",
    "            'RUSH': np.random.uniform(15.526055301123389, 978.6817472806543),\n",
    "            'Real Rate': rate\n",
    "        }\n",
    "    elif rate == 3:\n",
    "        player = {\n",
    "            'PYD': np.random.uniform(1150.1325382244213, 3264.9988778443103),\n",
    "            'TD': np.random.uniform(10.065423821424837, 49.5782760444132),\n",
    "            'CMP%': np.random.uniform(50.51634975, 79.67130195711853),\n",
    "            'Y/A': np.random.uniform(5.399911856, 9.997536249008869),\n",
    "            'RUSH': np.random.uniform(1.1104410139795018, 967.0187958884312),\n",
    "            'Real Rate': rate\n",
    "        }\n",
    "    else:\n",
    "        player = {\n",
    "            'PYD': np.random.uniform(1005.2091742763856, 3111.6465123651124),\n",
    "            'TD': np.random.uniform(10.04400741933955, 49.941814717326906),\n",
    "            'CMP%': np.random.uniform(50.11980543, 79.73167512665506),\n",
    "            'Y/A': np.random.uniform(5.022046380368021, 9.966342035260176),\n",
    "            'RUSH': np.random.uniform(1.3661937798987722, 997.9959795760664),\n",
    "            'Real Rate': rate\n",
    "        }\n",
    "    \n",
    "    return player"
   ]
  },
  {
   "cell_type": "code",
   "execution_count": 1061,
   "metadata": {},
   "outputs": [],
   "source": [
    "X_players = 1000\n",
    "players_data = [generate_random_player() for _ in range(X_players)]"
   ]
  },
  {
   "cell_type": "code",
   "execution_count": 1062,
   "metadata": {},
   "outputs": [],
   "source": [
    "df_players = pd.DataFrame(players_data)"
   ]
  },
  {
   "cell_type": "code",
   "execution_count": 1063,
   "metadata": {},
   "outputs": [],
   "source": [
    "predicted_rates = model.predict(df_players.drop(columns=['Real Rate']))"
   ]
  },
  {
   "cell_type": "code",
   "execution_count": 1064,
   "metadata": {},
   "outputs": [],
   "source": [
    "df_players['Decimal Predicted Rate'] = predicted_rates\n",
    "df_players['Predicted Rate'] = np.floor(predicted_rates)"
   ]
  },
  {
   "cell_type": "code",
   "execution_count": 1065,
   "metadata": {},
   "outputs": [],
   "source": [
    "df_players['Integer Comparison'] = np.where(df_players['Predicted Rate'] == df_players['Real Rate'], 'Correct', 'Incorrect')"
   ]
  },
  {
   "cell_type": "code",
   "execution_count": 1066,
   "metadata": {},
   "outputs": [
    {
     "name": "stdout",
     "output_type": "stream",
     "text": [
      "Integer Comparison\n",
      "Correct      736\n",
      "Incorrect    264\n",
      "Name: count, dtype: int64\n"
     ]
    }
   ],
   "source": [
    "comparison_counts = df_players['Integer Comparison'].value_counts()\n",
    "print(comparison_counts)"
   ]
  },
  {
   "cell_type": "code",
   "execution_count": 1067,
   "metadata": {},
   "outputs": [
    {
     "name": "stdout",
     "output_type": "stream",
     "text": [
      "           PYD         TD       CMP%       Y/A        RUSH  Real Rate  \\\n",
      "0  3236.557178  20.283089  51.696966  7.838163  563.679602          2   \n",
      "1  3294.568196  48.582395  55.884201  9.752706  429.497771          2   \n",
      "2  1938.874990  41.778422  73.543753  7.656949  349.170714          3   \n",
      "3  2582.017472  37.566957  56.933261  6.364695  354.070661          3   \n",
      "4  1140.756379  31.340502  67.002395  6.774402  255.822503          4   \n",
      "\n",
      "   Predicted Rate Integer Comparison  \n",
      "0             2.0            Correct  \n",
      "1             2.0            Correct  \n",
      "2             4.0          Incorrect  \n",
      "3             4.0          Incorrect  \n",
      "4             4.0            Correct  \n"
     ]
    }
   ],
   "source": [
    "print(df_players[['PYD', 'TD', 'CMP%', 'Y/A', 'RUSH', 'Real Rate', 'Predicted Rate', 'Integer Comparison']].head())"
   ]
  },
  {
   "cell_type": "code",
   "execution_count": 1068,
   "metadata": {},
   "outputs": [
    {
     "name": "stdout",
     "output_type": "stream",
     "text": [
      "Accuracy:  0.736\n"
     ]
    }
   ],
   "source": [
    "print(\"Accuracy: \", comparison_counts['Correct'] / (comparison_counts['Correct'] + comparison_counts['Incorrect']))"
   ]
  },
  {
   "cell_type": "code",
   "execution_count": 1070,
   "metadata": {},
   "outputs": [],
   "source": [
    "def compare_with_tolerance(pred, real, tolerance=1):\n",
    "    return 'Correct' if abs(pred - real) <= tolerance else 'Incorrect'"
   ]
  },
  {
   "cell_type": "code",
   "execution_count": 1071,
   "metadata": {},
   "outputs": [
    {
     "name": "stdout",
     "output_type": "stream",
     "text": [
      "           PYD         TD       CMP%       Y/A        RUSH  Real Rate  \\\n",
      "0  3236.557178  20.283089  51.696966  7.838163  563.679602          2   \n",
      "1  3294.568196  48.582395  55.884201  9.752706  429.497771          2   \n",
      "2  1938.874990  41.778422  73.543753  7.656949  349.170714          3   \n",
      "3  2582.017472  37.566957  56.933261  6.364695  354.070661          3   \n",
      "4  1140.756379  31.340502  67.002395  6.774402  255.822503          4   \n",
      "\n",
      "   Predicted Rate Tolerance Comparison  \n",
      "0             2.0              Correct  \n",
      "1             2.0              Correct  \n",
      "2             4.0            Incorrect  \n",
      "3             4.0            Incorrect  \n",
      "4             4.0              Correct  \n"
     ]
    }
   ],
   "source": [
    "df_players['Tolerance Comparison'] = df_players.apply(lambda row: compare_with_tolerance(row['Decimal Predicted Rate'], row['Real Rate']), axis=1)\n",
    "print(df_players[['PYD', 'TD', 'CMP%', 'Y/A', 'RUSH', 'Real Rate', 'Predicted Rate', 'Tolerance Comparison']].head())"
   ]
  },
  {
   "cell_type": "code",
   "execution_count": 1072,
   "metadata": {},
   "outputs": [
    {
     "name": "stdout",
     "output_type": "stream",
     "text": [
      "Tolerance Comparison\n",
      "Correct      770\n",
      "Incorrect    230\n",
      "Name: count, dtype: int64\n"
     ]
    }
   ],
   "source": [
    "comparison_counts = df_players['Tolerance Comparison'].value_counts()\n",
    "print(comparison_counts)"
   ]
  },
  {
   "cell_type": "code",
   "execution_count": 1073,
   "metadata": {},
   "outputs": [
    {
     "name": "stdout",
     "output_type": "stream",
     "text": [
      "Accuracy: 77.00%\n"
     ]
    }
   ],
   "source": [
    "print(f'Accuracy: {comparison_counts[\"Correct\"] / X_players * 100:.2f}%')"
   ]
  },
  {
   "cell_type": "code",
   "execution_count": 1074,
   "metadata": {},
   "outputs": [],
   "source": [
    "df_players.to_csv('comparison_predicted_vs_real_new_ranges.csv', index=False)"
   ]
  },
  {
   "cell_type": "code",
   "execution_count": null,
   "metadata": {},
   "outputs": [],
   "source": []
  }
 ],
 "metadata": {
  "kernelspec": {
   "display_name": "Python 3",
   "language": "python",
   "name": "python3"
  },
  "language_info": {
   "codemirror_mode": {
    "name": "ipython",
    "version": 3
   },
   "file_extension": ".py",
   "mimetype": "text/x-python",
   "name": "python",
   "nbconvert_exporter": "python",
   "pygments_lexer": "ipython3",
   "version": "3.12.4"
  }
 },
 "nbformat": 4,
 "nbformat_minor": 2
}
